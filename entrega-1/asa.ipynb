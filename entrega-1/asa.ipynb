{
 "cells": [
  {
   "cell_type": "code",
   "execution_count": 93,
   "metadata": {},
   "outputs": [],
   "source": [
    "#Create a matrix\n",
    "\n",
    "import numpy as np\n",
    "import pandas as pd\n",
    "import matplotlib.pyplot as plt\n",
    "import seaborn as sns\n",
    "import subprocess\n",
    "\n",
    "DATA_DIR = \"./data\"\n",
    "%matplotlib inline\n",
    "NR_RUNS = 200\n",
    "BIG_NR = 1000000000\n",
    "MAX_NR = 20\n",
    "LOOP_TIMES = 3\n",
    "\n",
    "ladrilho_cmd = \"./ladrilho_valido {size} {size} {seed} > ./data/ladrilho_{size}_{i}.txt\"\n",
    "\n",
    "\n"
   ]
  },
  {
   "cell_type": "code",
   "execution_count": 94,
   "metadata": {},
   "outputs": [],
   "source": [
    "def init_ladrilhos(size):\n",
    "    for i in range(NR_RUNS):\n",
    "        randint = np.random.randint(0, BIG_NR)\n",
    "        subprocess.check_output(ladrilho_cmd.format(size=size, i=i, seed=randint), shell=True)\n",
    "\n",
    "def init_all_ladrilhos():\n",
    "    for size in range(1, MAX_NR+1):\n",
    "        #for cols in range(1, MAX_NR+1):\n",
    "        init_ladrilhos(size)"
   ]
  },
  {
   "cell_type": "code",
   "execution_count": 95,
   "metadata": {},
   "outputs": [],
   "source": [
    "#init_all_ladrilhos()"
   ]
  },
  {
   "cell_type": "code",
   "execution_count": 96,
   "metadata": {},
   "outputs": [],
   "source": [
    "#Create empty np array with dimensions 20x20\n",
    "\n",
    "\n"
   ]
  },
  {
   "cell_type": "code",
   "execution_count": 109,
   "metadata": {},
   "outputs": [
    {
     "ename": "KeyboardInterrupt",
     "evalue": "",
     "output_type": "error",
     "traceback": [
      "\u001b[0;31m---------------------------------------------------------------------------\u001b[0m",
      "\u001b[0;31mKeyboardInterrupt\u001b[0m                         Traceback (most recent call last)",
      "\u001b[1;32m/home/rg/PX/ASA/proj-asa/asa.ipynb Cell 5\u001b[0m in \u001b[0;36m<cell line: 10>\u001b[0;34m()\u001b[0m\n\u001b[1;32m     <a href='vscode-notebook-cell:/home/rg/PX/ASA/proj-asa/asa.ipynb#W4sZmlsZQ%3D%3D?line=11'>12</a>\u001b[0m     \u001b[39mcontinue\u001b[39;00m\n\u001b[1;32m     <a href='vscode-notebook-cell:/home/rg/PX/ASA/proj-asa/asa.ipynb#W4sZmlsZQ%3D%3D?line=12'>13</a>\u001b[0m filename \u001b[39m=\u001b[39m hyperfine_rslt_file\u001b[39m.\u001b[39mformat(size\u001b[39m=\u001b[39msize\u001b[39m+\u001b[39m\u001b[39m1\u001b[39m)\n\u001b[0;32m---> <a href='vscode-notebook-cell:/home/rg/PX/ASA/proj-asa/asa.ipynb#W4sZmlsZQ%3D%3D?line=13'>14</a>\u001b[0m run_txt \u001b[39m=\u001b[39m run_cmd(cmd, size\u001b[39m+\u001b[39m\u001b[39m1\u001b[39m, filename)\n",
      "\u001b[1;32m/home/rg/PX/ASA/proj-asa/asa.ipynb Cell 5\u001b[0m in \u001b[0;36mrun_cmd\u001b[0;34m(cmd, size, filename)\u001b[0m\n\u001b[1;32m      <a href='vscode-notebook-cell:/home/rg/PX/ASA/proj-asa/asa.ipynb#W4sZmlsZQ%3D%3D?line=3'>4</a>\u001b[0m \u001b[39mdef\u001b[39;00m \u001b[39mrun_cmd\u001b[39m(cmd, size, filename):\n\u001b[1;32m      <a href='vscode-notebook-cell:/home/rg/PX/ASA/proj-asa/asa.ipynb#W4sZmlsZQ%3D%3D?line=4'>5</a>\u001b[0m     step\u001b[39m=\u001b[39m\u001b[39mr\u001b[39m\u001b[39m\"\u001b[39m\u001b[39m{step}\u001b[39;00m\u001b[39m\"\u001b[39m\n\u001b[0;32m----> <a href='vscode-notebook-cell:/home/rg/PX/ASA/proj-asa/asa.ipynb#W4sZmlsZQ%3D%3D?line=5'>6</a>\u001b[0m     \u001b[39mreturn\u001b[39;00m subprocess\u001b[39m.\u001b[39;49mcheck_output(cmd\u001b[39m.\u001b[39;49mformat(size\u001b[39m=\u001b[39;49msize, step\u001b[39m=\u001b[39;49mstep, filename\u001b[39m=\u001b[39;49mfilename, LOOP_TIMES\u001b[39m=\u001b[39;49mLOOP_TIMES), shell\u001b[39m=\u001b[39;49m\u001b[39mTrue\u001b[39;49;00m)\u001b[39m.\u001b[39mdecode(\u001b[39m\"\u001b[39m\u001b[39mutf-8\u001b[39m\u001b[39m\"\u001b[39m)\n",
      "File \u001b[0;32m/nix/store/zdba9frlxj2ba8ca095win3nphsiiqhb-python3-3.10.8/lib/python3.10/subprocess.py:421\u001b[0m, in \u001b[0;36mcheck_output\u001b[0;34m(timeout, *popenargs, **kwargs)\u001b[0m\n\u001b[1;32m    418\u001b[0m         empty \u001b[39m=\u001b[39m \u001b[39mb\u001b[39m\u001b[39m'\u001b[39m\u001b[39m'\u001b[39m\n\u001b[1;32m    419\u001b[0m     kwargs[\u001b[39m'\u001b[39m\u001b[39minput\u001b[39m\u001b[39m'\u001b[39m] \u001b[39m=\u001b[39m empty\n\u001b[0;32m--> 421\u001b[0m \u001b[39mreturn\u001b[39;00m run(\u001b[39m*\u001b[39;49mpopenargs, stdout\u001b[39m=\u001b[39;49mPIPE, timeout\u001b[39m=\u001b[39;49mtimeout, check\u001b[39m=\u001b[39;49m\u001b[39mTrue\u001b[39;49;00m,\n\u001b[1;32m    422\u001b[0m            \u001b[39m*\u001b[39;49m\u001b[39m*\u001b[39;49mkwargs)\u001b[39m.\u001b[39mstdout\n",
      "File \u001b[0;32m/nix/store/zdba9frlxj2ba8ca095win3nphsiiqhb-python3-3.10.8/lib/python3.10/subprocess.py:505\u001b[0m, in \u001b[0;36mrun\u001b[0;34m(input, capture_output, timeout, check, *popenargs, **kwargs)\u001b[0m\n\u001b[1;32m    503\u001b[0m \u001b[39mwith\u001b[39;00m Popen(\u001b[39m*\u001b[39mpopenargs, \u001b[39m*\u001b[39m\u001b[39m*\u001b[39mkwargs) \u001b[39mas\u001b[39;00m process:\n\u001b[1;32m    504\u001b[0m     \u001b[39mtry\u001b[39;00m:\n\u001b[0;32m--> 505\u001b[0m         stdout, stderr \u001b[39m=\u001b[39m process\u001b[39m.\u001b[39;49mcommunicate(\u001b[39minput\u001b[39;49m, timeout\u001b[39m=\u001b[39;49mtimeout)\n\u001b[1;32m    506\u001b[0m     \u001b[39mexcept\u001b[39;00m TimeoutExpired \u001b[39mas\u001b[39;00m exc:\n\u001b[1;32m    507\u001b[0m         process\u001b[39m.\u001b[39mkill()\n",
      "File \u001b[0;32m/nix/store/zdba9frlxj2ba8ca095win3nphsiiqhb-python3-3.10.8/lib/python3.10/subprocess.py:1141\u001b[0m, in \u001b[0;36mPopen.communicate\u001b[0;34m(self, input, timeout)\u001b[0m\n\u001b[1;32m   1139\u001b[0m     \u001b[39mself\u001b[39m\u001b[39m.\u001b[39m_stdin_write(\u001b[39minput\u001b[39m)\n\u001b[1;32m   1140\u001b[0m \u001b[39melif\u001b[39;00m \u001b[39mself\u001b[39m\u001b[39m.\u001b[39mstdout:\n\u001b[0;32m-> 1141\u001b[0m     stdout \u001b[39m=\u001b[39m \u001b[39mself\u001b[39;49m\u001b[39m.\u001b[39;49mstdout\u001b[39m.\u001b[39;49mread()\n\u001b[1;32m   1142\u001b[0m     \u001b[39mself\u001b[39m\u001b[39m.\u001b[39mstdout\u001b[39m.\u001b[39mclose()\n\u001b[1;32m   1143\u001b[0m \u001b[39melif\u001b[39;00m \u001b[39mself\u001b[39m\u001b[39m.\u001b[39mstderr:\n",
      "\u001b[0;31mKeyboardInterrupt\u001b[0m: "
     ]
    }
   ],
   "source": [
    "hyperfine_rslt_file = \"./rslts/hyperfine_rslt_{size}.json\"\n",
    "cmd = 'hyperfine --runs 3 -P step 1 {LOOP_TIMES} \"./main < ./data/ladrilho_{size}_{step}.txt\" --export-json {filename}'\n",
    "\n",
    "def run_cmd(cmd, size, filename):\n",
    "    step=r\"{step}\"\n",
    "    return subprocess.check_output(cmd.format(size=size, step=step, filename=filename, LOOP_TIMES=LOOP_TIMES), shell=True).decode(\"utf-8\")\n",
    "\n",
    "\n",
    "# Run benchmark\n",
    "for size in range(MAX_NR+1):\n",
    "    if size +1 < 18:\n",
    "        continue\n",
    "    filename = hyperfine_rslt_file.format(size=size+1)\n",
    "    run_txt = run_cmd(cmd, size+1, filename)"
   ]
  },
  {
   "cell_type": "code",
   "execution_count": 107,
   "metadata": {},
   "outputs": [
    {
     "name": "stdout",
     "output_type": "stream",
     "text": [
      "./rslts/hyperfine_rslt_17.json\n",
      "8.609696737411111\n",
      "./rslts/hyperfine_rslt_17.json\n",
      "8.609696737411111\n",
      "./rslts/hyperfine_rslt_17.json\n",
      "8.609696737411111\n",
      "./rslts/hyperfine_rslt_17.json\n",
      "8.609696737411111\n",
      "./rslts/hyperfine_rslt_17.json\n",
      "8.609696737411111\n",
      "./rslts/hyperfine_rslt_17.json\n",
      "8.609696737411111\n",
      "./rslts/hyperfine_rslt_17.json\n",
      "8.609696737411111\n",
      "./rslts/hyperfine_rslt_17.json\n",
      "8.609696737411111\n",
      "./rslts/hyperfine_rslt_17.json\n",
      "8.609696737411111\n",
      "./rslts/hyperfine_rslt_17.json\n",
      "8.609696737411111\n",
      "./rslts/hyperfine_rslt_17.json\n",
      "8.609696737411111\n",
      "./rslts/hyperfine_rslt_17.json\n",
      "8.609696737411111\n",
      "./rslts/hyperfine_rslt_17.json\n",
      "8.609696737411111\n",
      "./rslts/hyperfine_rslt_17.json\n",
      "8.609696737411111\n",
      "./rslts/hyperfine_rslt_17.json\n",
      "8.609696737411111\n",
      "./rslts/hyperfine_rslt_17.json\n",
      "8.609696737411111\n",
      "./rslts/hyperfine_rslt_17.json\n",
      "8.609696737411111\n",
      "./rslts/hyperfine_rslt_17.json\n",
      "8.609696737411111\n",
      "./rslts/hyperfine_rslt_17.json\n",
      "8.609696737411111\n",
      "./rslts/hyperfine_rslt_17.json\n",
      "8.609696737411111\n"
     ]
    },
    {
     "data": {
      "text/plain": [
       "[<matplotlib.lines.Line2D at 0x7fb9b19c2050>]"
      ]
     },
     "execution_count": 107,
     "metadata": {},
     "output_type": "execute_result"
    },
    {
     "data": {
      "image/png": "[encoded data removed]",
      "text/plain": [
       "<Figure size 640x480 with 1 Axes>"
      ]
     },
     "metadata": {},
     "output_type": "display_data"
    }
   ],
   "source": [
    "#matrix = np.zeros((MAX_NR, MAX_NR))\n",
    "hyper_rslts = np.zeros(MAX_NR)\n",
    "import json\n",
    "\n",
    "# Loop through array\n",
    "for i in range(15):\n",
    "    #for j in range(MAX_NR):\n",
    "   #     hyperfine_rslt_file.format(size=i+1)\n",
    "        # Get the time for the i,j ladrilho\n",
    "    #    filename = hyperfine_rslt_file.format(size=i+1)\n",
    "        print(filename)\n",
    "        with open(filename, \"r\") as f:\n",
    "            data = json.load(f)\n",
    "            count = 0\n",
    "            sum = 0\n",
    "          #  time = data[\"results\"][0][\"mean\"]\n",
    "            for rslt in data[\"results\"]:\n",
    "                count += 1\n",
    "                sum += rslt[\"mean\"]\n",
    "            real_mean = sum / count\n",
    "            hyper_rslts[i] = real_mean\n",
    "            print(real_mean)\n",
    "# Label the axes\n",
    "#Limit x axis to integers only\n",
    "plt.xticks(np.arange(0, MAX_NR+1, 1.0))\n",
    "plt.xlabel(\"Tamanho do quadrado a ladrilhar\")\n",
    "plt.ylabel(\"Tempo (s)\")\n",
    "\n",
    "# Plot the results\n",
    "plt.plot(hyper_rslts)\n",
    "     "
   ]
  }
 ],
 "metadata": {
  "kernelspec": {
   "display_name": "Python 3.9.13 64-bit",
   "language": "python",
   "name": "python3"
  },
  "language_info": {
   "codemirror_mode": {
    "name": "ipython",
    "version": 3
   },
   "file_extension": ".py",
   "mimetype": "text/x-python",
   "name": "python",
   "nbconvert_exporter": "python",
   "pygments_lexer": "ipython3",
   "version": "3.10.8"
  },
  "orig_nbformat": 4,
  "vscode": {
   "interpreter": {
    "hash": "520e995520d0f28b9f1e7cacfd9ba1493aa60b57e5f0cc1543205df7dd9220a2"
   }
  }
 },
 "nbformat": 4,
 "nbformat_minor": 2
}
